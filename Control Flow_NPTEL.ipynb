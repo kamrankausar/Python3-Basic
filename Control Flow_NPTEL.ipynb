{
 "cells": [
  {
   "cell_type": "code",
   "execution_count": 1,
   "metadata": {
    "collapsed": true
   },
   "outputs": [],
   "source": [
    "#Interpreter executes statements from top to bottom\n",
    "# To make it flexible we use control flow\n",
    "# Control flow — determines order in which statements are executed"
   ]
  },
  {
   "cell_type": "code",
   "execution_count": 2,
   "metadata": {
    "collapsed": true
   },
   "outputs": [],
   "source": [
    "# Normally we have 3 types of control flow\n",
    "# Conditional execution\n",
    "# Repeated execution — loops\n",
    "# Function definitions"
   ]
  },
  {
   "cell_type": "code",
   "execution_count": null,
   "metadata": {
    "collapsed": true
   },
   "outputs": [],
   "source": [
    "Indentation demarcates body  of if  — must be uniform\n",
    "if condition:\n",
    "  statement_1  # Execute conditionally\n",
    "  statement_2  # Execute conditionally\n",
    "statement_3    # Execute unconditionally\n"
   ]
  },
  {
   "cell_type": "code",
   "execution_count": null,
   "metadata": {
    "collapsed": true
   },
   "outputs": [],
   "source": [
    "Shortcuts for conditions\n",
    "Numeric value 0  is treated as False\n",
    "Empty sequence \"\" , []  is treated as False\n",
    "Everything else is True"
   ]
  },
  {
   "cell_type": "code",
   "execution_count": null,
   "metadata": {
    "collapsed": true
   },
   "outputs": [],
   "source": [
    "Loop based on a condition\n",
    "Often we don’t know number of repetitions in \n",
    "advance\n",
    "while condition:\n",
    "  . . .\n",
    "Execute body if condition  evaluates to True\n",
    "After each iteration, check condition  again \n",
    "Body must ensure progress towards termination!\n",
    "Example\n",
    "Euclid’s gcd algorithm using remainder\n",
    "Update  m , n  till we find n  to be a divisor of m\n",
    "def gcd(m,n):\n",
    "  if m < n:\n",
    "    (m,n) = (n,m)\n",
    "  while m%n != 0:\n",
    "    (m,n) = (n,m%n)\n",
    "  return(n)"
   ]
  },
  {
   "cell_type": "code",
   "execution_count": 6,
   "metadata": {
    "collapsed": false
   },
   "outputs": [],
   "source": [
    "# Some more example i.e finding the factor of a given numbre\n",
    "def factor(n):\n",
    "    fac_list = []\n",
    "    for i in range(1, n+1):\n",
    "        if n % i == 0:\n",
    "            fac_list.append(i)\n",
    "    return fac_list"
   ]
  },
  {
   "cell_type": "code",
   "execution_count": 8,
   "metadata": {
    "collapsed": false
   },
   "outputs": [
    {
     "data": {
      "text/plain": [
       "[1, 2, 7, 14]"
      ]
     },
     "execution_count": 8,
     "metadata": {},
     "output_type": "execute_result"
    }
   ],
   "source": [
    "factor(14)"
   ]
  },
  {
   "cell_type": "code",
   "execution_count": null,
   "metadata": {
    "collapsed": true
   },
   "outputs": [],
   "source": []
  }
 ],
 "metadata": {
  "anaconda-cloud": {},
  "kernelspec": {
   "display_name": "Python [default]",
   "language": "python",
   "name": "python3"
  },
  "language_info": {
   "codemirror_mode": {
    "name": "ipython",
    "version": 3
   },
   "file_extension": ".py",
   "mimetype": "text/x-python",
   "name": "python",
   "nbconvert_exporter": "python",
   "pygments_lexer": "ipython3",
   "version": "3.5.2"
  }
 },
 "nbformat": 4,
 "nbformat_minor": 1
}
